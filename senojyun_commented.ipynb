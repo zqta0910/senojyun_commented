{
 "cells": [
  {
   "cell_type": "code",
   "execution_count": 1,
   "id": "39fc2f2f",
   "metadata": {},
   "outputs": [
    {
     "name": "stdout",
     "output_type": "stream",
     "text": [
      "\n",
      "--- 身長順リスト---\n",
      "順位: 1, 名前: Sam, 身長: 180.0\n",
      "順位: 2, 名前: Tom, 身長: 170.0\n",
      "順位: 3, 名前: Kim, 身長: 160.0\n"
     ]
    }
   ],
   "source": [
    "def senojyun():\n",
    "    \n",
    "    student = []\n",
    "    \n",
    "    #ユーザーが有効な値を入力するまでループを繰り返すwhile\n",
    "    while True:\n",
    "        #try:の後に続くブロックには、エラーが発生する可能性があるコードを記述\n",
    "        try:\n",
    "            num_student = int(input('生徒の数を入力してください'))\n",
    "            \n",
    "            #以下エラーが発生しなければ実行されるコード\n",
    "            #num_studentが０より小さければprintして再度if\n",
    "            #そうでなければifを抜ける\n",
    "            if num_student <= 0:\n",
    "                print('生徒の数は１以上である必要があります')\n",
    "                continue\n",
    "            break\n",
    "        \n",
    "        #tryブロック内で特定のエラーが発生した場合に実行したい処理\n",
    "        except ValueError:\n",
    "            print('有効な値を入力してください')\n",
    "            \n",
    "    for i in range(num_student):\n",
    "        name = input(f'生徒{i+1}の名前を入力してください:')\n",
    "        \n",
    "        while True:\n",
    "            try:\n",
    "                height = float(input(f'生徒{i+1}の身長（cm）を入力してください:'))\n",
    "                break\n",
    "            except ValueError:\n",
    "                print('有効な値を入力してください')\n",
    "        \n",
    "        #studentリストに(name, height)タプルを末尾に追加(.append())\n",
    "        #タプルは一度作成すると中身を変更できない        \n",
    "        student.append((name, height))\n",
    "    \n",
    "    #.sort()リストそのものを並べ替えるメソッド\n",
    "    #key引数を使って比較の値を選択\n",
    "    #lambda: その場で一時的に小さな関数を定義する\n",
    "    #xはリスト内の各要素（名前、身長）というタプルを一時的にあらわす\n",
    "        \n",
    "    student.sort(key=lambda x: x[1], reverse=True)\n",
    "    \n",
    "    print('\\n--- 身長順リスト---')\n",
    "    for rank, student in enumerate(student, 1):\n",
    "        name = student[0]\n",
    "        height = student[1]\n",
    "        print(f'順位: {rank}, 名前: {name}, 身長: {height:.1f}')\n",
    "        \n",
    "senojyun()\n",
    "        "
   ]
  }
 ],
 "metadata": {
  "kernelspec": {
   "display_name": "3.13.7",
   "language": "python",
   "name": "python3"
  },
  "language_info": {
   "codemirror_mode": {
    "name": "ipython",
    "version": 3
   },
   "file_extension": ".py",
   "mimetype": "text/x-python",
   "name": "python",
   "nbconvert_exporter": "python",
   "pygments_lexer": "ipython3",
   "version": "3.13.7"
  }
 },
 "nbformat": 4,
 "nbformat_minor": 5
}
